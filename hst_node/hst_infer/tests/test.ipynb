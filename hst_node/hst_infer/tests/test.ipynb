{
 "cells": [
  {
   "cell_type": "code",
   "execution_count": null,
   "metadata": {},
   "outputs": [],
   "source": [
    "import sys\n",
    "sys.path.append('/home/xmo/socialnav_xmo/human-scene-transformer')\n",
    "\n",
    "import matplotlib.pyplot as plt\n",
    "from matplotlib import cm\n",
    "import numpy as np\n",
    "from celluloid import Camera\n",
    "import collections\n",
    "\n",
    "\n",
    "import os\n",
    "from typing import Sequence\n",
    "from absl import app\n",
    "from absl import flags\n",
    "from absl import logging\n",
    "import gin\n",
    "\n",
    "from human_scene_transformer.jrdb import dataset_params\n",
    "from human_scene_transformer.jrdb import input_fn\n",
    "from human_scene_transformer.metrics import metrics\n",
    "from human_scene_transformer.model import model as hst_model\n",
    "from human_scene_transformer.model import model_params\n",
    "import tensorflow as tf\n",
    "import tqdm\n",
    "\n",
    "\n",
    "_MODEL_PATH = '/home/xmo/socialnav_xmo/jrdb_dataset/jrdb_challenge_checkpoint/'\n",
    "_CKPT_PATH = '/home/xmo/socialnav_xmo/jrdb_dataset/jrdb_challenge_checkpoint/ckpts/ckpt-20'\n",
    "\n",
    "def distance_error(target: tf.Tensor, pred: tf.Tensor) -> tf.Tensor:\n",
    "  return tf.sqrt(\n",
    "      tf.reduce_sum(tf.square(pred - target), axis=-1, keepdims=True))\n"
   ]
  },
  {
   "cell_type": "code",
   "execution_count": null,
   "metadata": {},
   "outputs": [],
   "source": [
    "def evaluation(checkpoint_path):\n",
    "  \"\"\"Evaluates Model on Pedestrian dataset.\"\"\"\n",
    "  d_params = dataset_params.JRDBDatasetParams(num_agents=None)\n",
    "\n",
    "  # only test on the specific scene ##################\n",
    "  d_params.eval_scenes = d_params.eval_scenes[12:13]\n",
    "  ######################################################\n",
    "\n",
    "  print('Visualization Scene:', d_params.eval_scenes)\n",
    "  dataset = input_fn.load_dataset(\n",
    "      d_params,\n",
    "      d_params.eval_scenes,\n",
    "      augment=False,\n",
    "      shuffle=False,\n",
    "      allow_parallel=False,\n",
    "      evaluation=False,\n",
    "      repeat=False,\n",
    "      keep_subsamples=False,\n",
    "  )\n",
    "\n",
    "  model_p = model_params.ModelParams()\n",
    "\n",
    "  model = hst_model.HumanTrajectorySceneTransformer(model_p)\n",
    "\n",
    "  _, _ = model(next(iter(dataset.batch(1))), training=False)\n",
    "\n",
    "\n",
    "def main() -> None:\n",
    "\n",
    "  gin.parse_config_files_and_bindings(\n",
    "      [os.path.join(_MODEL_PATH, 'params', 'operative_config.gin')],\n",
    "      None,\n",
    "      skip_unknown=True)\n",
    "  print('Actual gin config used:')\n",
    "  print(gin.config_str())\n",
    "\n",
    "  evaluation(_CKPT_PATH)\n",
    "  print('done')\n",
    "\n",
    "main()"
   ]
  },
  {
   "cell_type": "code",
   "execution_count": null,
   "metadata": {},
   "outputs": [],
   "source": [
    "a = dict()\n",
    "a[1] = 1\n",
    "a[2] = 2\n",
    "a.keys()"
   ]
  },
  {
   "cell_type": "code",
   "execution_count": null,
   "metadata": {},
   "outputs": [],
   "source": [
    "import numpy as np\n",
    "\n",
    "a = np.arange(2*3*4*2).reshape((2,3,4,2))\n",
    "a[:,0:1,:,:] = np.zeros((2,1,4,2))\n",
    "a[:,np.newaxis,...].shape"
   ]
  },
  {
   "cell_type": "code",
   "execution_count": null,
   "metadata": {},
   "outputs": [],
   "source": [
    "from collections import deque\n",
    "class ca:\n",
    "    def __init__(self,i) -> None:\n",
    "        self.i = i\n",
    "\n",
    "a = deque(maxlen=5)\n",
    "\n",
    "for i in range(10):\n",
    "    a.append(ca(i))\n",
    "    # print(a, len(a))\n",
    "\n",
    "ca_list = list(a)\n",
    "print(\"0:\",ca_list[0].i,\"-1:\",ca_list[-1].i)\n",
    "# 0 is the oldest one, -1 is the latest one"
   ]
  },
  {
   "cell_type": "code",
   "execution_count": null,
   "metadata": {},
   "outputs": [],
   "source": [
    "alist = list()\n",
    "\n",
    "alist.append(([1],set([1])))\n",
    "alist.append(([2],set([2])))\n",
    "\n",
    "\n",
    "for x,y in alist:\n",
    "    print(x,y)"
   ]
  },
  {
   "cell_type": "code",
   "execution_count": null,
   "metadata": {},
   "outputs": [],
   "source": [
    "c = set()\n",
    "\n",
    "c.add(1)\n",
    "c.add(1)\n",
    "c.add(2)\n",
    "c.add(3)\n",
    "print(c)\n",
    "list(c)"
   ]
  },
  {
   "cell_type": "code",
   "execution_count": null,
   "metadata": {},
   "outputs": [],
   "source": [
    "id2idx = dict()\n",
    "id2idx[1] = 2\n",
    "\n",
    "id2idx[1]"
   ]
  },
  {
   "cell_type": "code",
   "execution_count": null,
   "metadata": {},
   "outputs": [],
   "source": [
    "for a, (b, c) in enumerate([(1,2),(2,3)], start=100):\n",
    "    print(a,b,c)"
   ]
  },
  {
   "cell_type": "code",
   "execution_count": null,
   "metadata": {},
   "outputs": [],
   "source": [
    "import rclpy\n",
    "\n",
    "rclpy.duration.Duration(seconds=1.0)"
   ]
  },
  {
   "cell_type": "code",
   "execution_count": null,
   "metadata": {},
   "outputs": [
    {
     "ename": "",
     "evalue": "",
     "output_type": "error",
     "traceback": [
      "\u001b[1;31mThe file '.venv/lib/python3.10/site-packages/typing_extensions.py' seems to be overriding built in modules and interfering with the startup of the kernel. Consider renaming the file and starting the kernel again.\n",
      "\u001b[1;31mClick <a href='https://aka.ms/kernelFailuresOverridingBuiltInModules'>here</a> for more info."
     ]
    }
   ],
   "source": [
    "import numpy as np\n",
    "\n",
    "r = np.random.random((3,3))\n",
    "x = np.random.random((2, 24, 17, 3))\n",
    "\n",
    "res = np.einsum(\"ij,...i->...i\", r, x)\n",
    "\n",
    "res"
   ]
  }
 ],
 "metadata": {
  "kernelspec": {
   "display_name": "hst310",
   "language": "python",
   "name": "python3"
  },
  "language_info": {
   "codemirror_mode": {
    "name": "ipython",
    "version": 3
   },
   "file_extension": ".py",
   "mimetype": "text/x-python",
   "name": "python",
   "nbconvert_exporter": "python",
   "pygments_lexer": "ipython3",
   "version": "3.10.12"
  }
 },
 "nbformat": 4,
 "nbformat_minor": 2
}
